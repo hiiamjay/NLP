{
  "nbformat": 4,
  "nbformat_minor": 0,
  "metadata": {
    "colab": {
      "name": "J075 NLP ASG-1 SPAM.ipynb",
      "provenance": [],
      "authorship_tag": "ABX9TyOVm/KNVhbkPaL7raxpttNd",
      "include_colab_link": true
    },
    "kernelspec": {
      "name": "python3",
      "display_name": "Python 3"
    },
    "language_info": {
      "name": "python"
    }
  },
  "cells": [
    {
      "cell_type": "markdown",
      "metadata": {
        "id": "view-in-github",
        "colab_type": "text"
      },
      "source": [
        "<a href=\"https://colab.research.google.com/github/hiiamjay/NLP/blob/main/J075_NLP_ASG_1_SPAM.ipynb\" target=\"_parent\"><img src=\"https://colab.research.google.com/assets/colab-badge.svg\" alt=\"Open In Colab\"/></a>"
      ]
    },
    {
      "cell_type": "code",
      "metadata": {
        "id": "VrNpS4baEl1V"
      },
      "source": [
        "import sys, os\n",
        "#to prevent the nltk downloader to print all lines\n",
        "# Disable\n",
        "def blockPrint():\n",
        "    sys.stdout = open(os.devnull, 'w')\n",
        "\n",
        "# Restore\n",
        "def enablePrint():\n",
        "    sys.stdout = sys.__stdout__\n"
      ],
      "execution_count": 1,
      "outputs": []
    },
    {
      "cell_type": "code",
      "metadata": {
        "colab": {
          "base_uri": "https://localhost:8080/"
        },
        "id": "XsFcUA-6pSOI",
        "outputId": "b4731b02-ef96-47ed-87c2-2a2a895b369e"
      },
      "source": [
        "import nltk\n",
        "blockPrint()\n",
        "nltk.download()"
      ],
      "execution_count": 2,
      "outputs": [
        {
          "output_type": "stream",
          "text": [
            "Downloader> all\n",
            "Downloader> d\n",
            "  Identifier> all\n",
            "Downloader> q\n"
          ],
          "name": "stdout"
        },
        {
          "output_type": "execute_result",
          "data": {
            "text/plain": [
              "True"
            ]
          },
          "metadata": {
            "tags": []
          },
          "execution_count": 2
        }
      ]
    },
    {
      "cell_type": "code",
      "metadata": {
        "id": "9a-yybz5pmV6"
      },
      "source": [
        "import numpy as np\n",
        "import pandas as pd\n",
        "import matplotlib.pyplot as plt\n",
        "from string import punctuation \n",
        "from nltk.corpus import stopwords \n",
        "from nltk.tokenize import word_tokenize \n",
        "from nltk.stem import LancasterStemmer\n",
        "from nltk.tag import pos_tag\n",
        "\n",
        "from nltk.stem import WordNetLemmatizer\n",
        "\n",
        "from string import punctuation\n",
        "from nltk.corpus import stopwords\n",
        "\n",
        "from nltk.tokenize import word_tokenize"
      ],
      "execution_count": 3,
      "outputs": []
    },
    {
      "cell_type": "code",
      "metadata": {
        "id": "-m5gx_AhqF4d"
      },
      "source": [
        "data=pd.read_csv(\"/content/spam (1).csv\",encoding='latin-1')"
      ],
      "execution_count": null,
      "outputs": []
    },
    {
      "cell_type": "code",
      "metadata": {
        "id": "eBEhGEj_qK-1"
      },
      "source": [
        "data=data.drop(['Unnamed: 2'\t,'Unnamed: 3','Unnamed: 4'],axis=1)\n",
        "data.columns = ['label', 'content']"
      ],
      "execution_count": null,
      "outputs": []
    },
    {
      "cell_type": "code",
      "metadata": {
        "colab": {
          "base_uri": "https://localhost:8080/"
        },
        "id": "pDCdw0Gh4Rm8",
        "outputId": "9edaaf64-8f45-4e29-944a-9d25f228d75a"
      },
      "source": [
        "remove = list(stopwords.words('english'))+list(punctuation)\n",
        "lemmatizer = WordNetLemmatizer()\n",
        "lemmatizer = WordNetLemmatizer()\n",
        "corpus = data['content'].tolist()\n",
        "len(corpus)"
      ],
      "execution_count": null,
      "outputs": [
        {
          "output_type": "execute_result",
          "data": {
            "text/plain": [
              "5572"
            ]
          },
          "metadata": {
            "tags": []
          },
          "execution_count": 7
        }
      ]
    },
    {
      "cell_type": "code",
      "metadata": {
        "id": "25Q-K5jC4giI"
      },
      "source": [
        "final_corpus = []\n",
        "for i in range(len(corpus)):\n",
        "  word = word_tokenize(corpus[i].lower())\n",
        "  word = [lemmatizer.lemmatize(y) for y in word if y not in remove]\n",
        "  j = \" \".join(word)\n",
        "  final_corpus.append(j)"
      ],
      "execution_count": null,
      "outputs": []
    },
    {
      "cell_type": "code",
      "metadata": {
        "colab": {
          "base_uri": "https://localhost:8080/"
        },
        "id": "mXdYH-Qf5LRh",
        "outputId": "2d3d53ec-e265-4f73-e124-4ab0890f80a8"
      },
      "source": [
        "final_corpus[0:5]"
      ],
      "execution_count": null,
      "outputs": [
        {
          "output_type": "execute_result",
          "data": {
            "text/plain": [
              "['go jurong point crazy.. available bugis n great world la e buffet ... cine got amore wat ...',\n",
              " 'ok lar ... joking wif u oni ...',\n",
              " \"free entry 2 wkly comp win fa cup final tkts 21st may 2005. text fa 87121 receive entry question std txt rate c 's apply 08452810075over18 's\",\n",
              " 'u dun say early hor ... u c already say ...',\n",
              " \"nah n't think go usf life around though\"]"
            ]
          },
          "metadata": {
            "tags": []
          },
          "execution_count": 9
        }
      ]
    },
    {
      "cell_type": "code",
      "metadata": {
        "id": "eRiVlOo95Oy6"
      },
      "source": [
        "label_list=data['label'].tolist()\n",
        "df = pd.DataFrame(final_corpus)\n",
        "df['label'] = label_list\n",
        "df.columns=['content','label']"
      ],
      "execution_count": null,
      "outputs": []
    },
    {
      "cell_type": "code",
      "metadata": {
        "colab": {
          "base_uri": "https://localhost:8080/",
          "height": 204
        },
        "id": "zLcK5NCK5bMv",
        "outputId": "1d19ddd7-3ec2-41f3-cc65-a98df44d87b1"
      },
      "source": [
        "df.head()"
      ],
      "execution_count": null,
      "outputs": [
        {
          "output_type": "execute_result",
          "data": {
            "text/html": [
              "<div>\n",
              "<style scoped>\n",
              "    .dataframe tbody tr th:only-of-type {\n",
              "        vertical-align: middle;\n",
              "    }\n",
              "\n",
              "    .dataframe tbody tr th {\n",
              "        vertical-align: top;\n",
              "    }\n",
              "\n",
              "    .dataframe thead th {\n",
              "        text-align: right;\n",
              "    }\n",
              "</style>\n",
              "<table border=\"1\" class=\"dataframe\">\n",
              "  <thead>\n",
              "    <tr style=\"text-align: right;\">\n",
              "      <th></th>\n",
              "      <th>content</th>\n",
              "      <th>label</th>\n",
              "    </tr>\n",
              "  </thead>\n",
              "  <tbody>\n",
              "    <tr>\n",
              "      <th>0</th>\n",
              "      <td>go jurong point crazy.. available bugis n grea...</td>\n",
              "      <td>ham</td>\n",
              "    </tr>\n",
              "    <tr>\n",
              "      <th>1</th>\n",
              "      <td>ok lar ... joking wif u oni ...</td>\n",
              "      <td>ham</td>\n",
              "    </tr>\n",
              "    <tr>\n",
              "      <th>2</th>\n",
              "      <td>free entry 2 wkly comp win fa cup final tkts 2...</td>\n",
              "      <td>spam</td>\n",
              "    </tr>\n",
              "    <tr>\n",
              "      <th>3</th>\n",
              "      <td>u dun say early hor ... u c already say ...</td>\n",
              "      <td>ham</td>\n",
              "    </tr>\n",
              "    <tr>\n",
              "      <th>4</th>\n",
              "      <td>nah n't think go usf life around though</td>\n",
              "      <td>ham</td>\n",
              "    </tr>\n",
              "  </tbody>\n",
              "</table>\n",
              "</div>"
            ],
            "text/plain": [
              "                                             content label\n",
              "0  go jurong point crazy.. available bugis n grea...   ham\n",
              "1                    ok lar ... joking wif u oni ...   ham\n",
              "2  free entry 2 wkly comp win fa cup final tkts 2...  spam\n",
              "3        u dun say early hor ... u c already say ...   ham\n",
              "4            nah n't think go usf life around though   ham"
            ]
          },
          "metadata": {
            "tags": []
          },
          "execution_count": 11
        }
      ]
    },
    {
      "cell_type": "code",
      "metadata": {
        "id": "q9g3i8Yq5fNV"
      },
      "source": [
        "from sklearn.feature_extraction.text import TfidfVectorizer\n",
        "tfidf = TfidfVectorizer()\n",
        "vector = tfidf.fit_transform(df['content'])\n",
        "x_train = vector.toarray()\n",
        "y_train= df['label']"
      ],
      "execution_count": null,
      "outputs": []
    },
    {
      "cell_type": "code",
      "metadata": {
        "colab": {
          "base_uri": "https://localhost:8080/"
        },
        "id": "ZVjRD8hG5pv-",
        "outputId": "19c2cc7a-83de-4652-a719-fe181ab14d66"
      },
      "source": [
        "from sklearn.naive_bayes import MultinomialNB\n",
        "ab = MultinomialNB()\n",
        "ab.fit(x_train,y_train)\n",
        "ypred = ab.predict(x_train)\n",
        "\n",
        "from sklearn.metrics import accuracy_score,confusion_matrix,classification_report\n",
        "print(accuracy_score(y_train,ypred))\n",
        "print(confusion_matrix(y_train,ypred))\n",
        "print(classification_report(y_train,ypred))"
      ],
      "execution_count": null,
      "outputs": [
        {
          "output_type": "stream",
          "text": [
            "0.9834888729361091\n",
            "[[4825    0]\n",
            " [  92  655]]\n",
            "              precision    recall  f1-score   support\n",
            "\n",
            "         ham       0.98      1.00      0.99      4825\n",
            "        spam       1.00      0.88      0.93       747\n",
            "\n",
            "    accuracy                           0.98      5572\n",
            "   macro avg       0.99      0.94      0.96      5572\n",
            "weighted avg       0.98      0.98      0.98      5572\n",
            "\n"
          ],
          "name": "stdout"
        }
      ]
    },
    {
      "cell_type": "code",
      "metadata": {
        "colab": {
          "base_uri": "https://localhost:8080/"
        },
        "id": "Z8c5bo8e6BzE",
        "outputId": "6703d92f-9315-4b86-941e-4bda46eb86e7"
      },
      "source": [
        "from sklearn.naive_bayes import GaussianNB\n",
        "ab = GaussianNB()\n",
        "ab.fit(x_train,y_train)\n",
        "ypred = ab.predict(x_train)\n",
        "\n",
        "from sklearn.metrics import accuracy_score,confusion_matrix,classification_report\n",
        "print(accuracy_score(y_train,ypred))\n",
        "print(confusion_matrix(y_train,ypred))\n",
        "print(classification_report(y_train,ypred))"
      ],
      "execution_count": null,
      "outputs": [
        {
          "output_type": "stream",
          "text": [
            "0.9341349605168701\n",
            "[[4458  367]\n",
            " [   0  747]]\n",
            "              precision    recall  f1-score   support\n",
            "\n",
            "         ham       1.00      0.92      0.96      4825\n",
            "        spam       0.67      1.00      0.80       747\n",
            "\n",
            "    accuracy                           0.93      5572\n",
            "   macro avg       0.84      0.96      0.88      5572\n",
            "weighted avg       0.96      0.93      0.94      5572\n",
            "\n"
          ],
          "name": "stdout"
        }
      ]
    },
    {
      "cell_type": "code",
      "metadata": {
        "colab": {
          "base_uri": "https://localhost:8080/"
        },
        "id": "tBCsZ7ae6Fds",
        "outputId": "0b6d44e2-7f01-4ae2-cec0-c901dc2311c4"
      },
      "source": [
        "from xgboost import XGBClassifier\n",
        "model = XGBClassifier(max_depth=10,random_state=1,learning_rate=0.05,seed=1)\n",
        "model.fit(x_train, y_train)\n",
        "y_pred=model.predict(x_train)\n",
        "\n",
        "from sklearn.metrics import accuracy_score,confusion_matrix,classification_report\n",
        "print(accuracy_score(y_train,ypred))\n",
        "print(confusion_matrix(y_train,ypred))\n",
        "print(classification_report(y_train,ypred))"
      ],
      "execution_count": null,
      "outputs": [
        {
          "output_type": "stream",
          "text": [
            "0.9341349605168701\n",
            "[[4458  367]\n",
            " [   0  747]]\n",
            "              precision    recall  f1-score   support\n",
            "\n",
            "         ham       1.00      0.92      0.96      4825\n",
            "        spam       0.67      1.00      0.80       747\n",
            "\n",
            "    accuracy                           0.93      5572\n",
            "   macro avg       0.84      0.96      0.88      5572\n",
            "weighted avg       0.96      0.93      0.94      5572\n",
            "\n"
          ],
          "name": "stdout"
        }
      ]
    }
  ]
}